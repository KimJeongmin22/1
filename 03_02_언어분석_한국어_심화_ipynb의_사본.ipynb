{
  "nbformat": 4,
  "nbformat_minor": 0,
  "metadata": {
    "colab": {
      "name": "03_02_언어분석_한국어_심화.ipynb의 사본",
      "provenance": [],
      "collapsed_sections": [],
      "toc_visible": true,
      "include_colab_link": true
    },
    "kernelspec": {
      "name": "python3",
      "display_name": "Python 3"
    }
  },
  "cells": [
    {
      "cell_type": "markdown",
      "metadata": {
        "id": "view-in-github",
        "colab_type": "text"
      },
      "source": [
        "<a href=\"https://colab.research.google.com/github/KimJeongmin22/hufs/blob/main/03_02_%EC%96%B8%EC%96%B4%EB%B6%84%EC%84%9D_%ED%95%9C%EA%B5%AD%EC%96%B4_%EC%8B%AC%ED%99%94_ipynb%EC%9D%98_%EC%82%AC%EB%B3%B8.ipynb\" target=\"_parent\"><img src=\"https://colab.research.google.com/assets/colab-badge.svg\" alt=\"Open In Colab\"/></a>"
      ]
    },
    {
      "cell_type": "markdown",
      "metadata": {
        "id": "f7Ep46Z1pMqY"
      },
      "source": [
        "# 환경 준비"
      ]
    },
    {
      "cell_type": "code",
      "metadata": {
        "id": "JNlUx7OmosBf"
      },
      "source": [
        "# konlpy(한국어형태소분석기)를 실행하기\n",
        "import konlpy"
      ],
      "execution_count": null,
      "outputs": []
    },
    {
      "cell_type": "code",
      "metadata": {
        "id": "KHuJ_eoto7QV",
        "outputId": "fb1dd40a-2af8-48cb-f175-fa72d2afb860",
        "colab": {
          "base_uri": "https://localhost:8080/"
        }
      },
      "source": [
        "# konlpy 설치하기 ## https://data1000.tistory.com/33\n",
        "!pip3 install jpype1==0.7.0\n",
        "!pip3 install konlpy"
      ],
      "execution_count": null,
      "outputs": [
        {
          "output_type": "stream",
          "text": [
            "Collecting jpype1==0.7.0\n",
            "\u001b[?25l  Downloading https://files.pythonhosted.org/packages/07/09/e19ce27d41d4f66d73ac5b6c6a188c51b506f56c7bfbe6c1491db2d15995/JPype1-0.7.0-cp36-cp36m-manylinux2010_x86_64.whl (2.7MB)\n",
            "\u001b[K     |████████████████████████████████| 2.7MB 9.6MB/s \n",
            "\u001b[?25hInstalling collected packages: jpype1\n",
            "Successfully installed jpype1-0.7.0\n",
            "Collecting konlpy\n",
            "\u001b[?25l  Downloading https://files.pythonhosted.org/packages/85/0e/f385566fec837c0b83f216b2da65db9997b35dd675e107752005b7d392b1/konlpy-0.5.2-py2.py3-none-any.whl (19.4MB)\n",
            "\u001b[K     |████████████████████████████████| 19.4MB 1.3MB/s \n",
            "\u001b[?25hCollecting beautifulsoup4==4.6.0\n",
            "\u001b[?25l  Downloading https://files.pythonhosted.org/packages/9e/d4/10f46e5cfac773e22707237bfcd51bbffeaf0a576b0a847ec7ab15bd7ace/beautifulsoup4-4.6.0-py3-none-any.whl (86kB)\n",
            "\u001b[K     |████████████████████████████████| 92kB 8.5MB/s \n",
            "\u001b[?25hCollecting tweepy>=3.7.0\n",
            "  Downloading https://files.pythonhosted.org/packages/bb/7c/99d51f80f3b77b107ebae2634108717362c059a41384a1810d13e2429a81/tweepy-3.9.0-py2.py3-none-any.whl\n",
            "Requirement already satisfied: JPype1>=0.7.0 in /usr/local/lib/python3.6/dist-packages (from konlpy) (0.7.0)\n",
            "Requirement already satisfied: numpy>=1.6 in /usr/local/lib/python3.6/dist-packages (from konlpy) (1.18.5)\n",
            "Collecting colorama\n",
            "  Downloading https://files.pythonhosted.org/packages/44/98/5b86278fbbf250d239ae0ecb724f8572af1c91f4a11edf4d36a206189440/colorama-0.4.4-py2.py3-none-any.whl\n",
            "Requirement already satisfied: lxml>=4.1.0 in /usr/local/lib/python3.6/dist-packages (from konlpy) (4.2.6)\n",
            "Requirement already satisfied: requests-oauthlib>=0.7.0 in /usr/local/lib/python3.6/dist-packages (from tweepy>=3.7.0->konlpy) (1.3.0)\n",
            "Requirement already satisfied: six>=1.10.0 in /usr/local/lib/python3.6/dist-packages (from tweepy>=3.7.0->konlpy) (1.15.0)\n",
            "Requirement already satisfied: requests[socks]>=2.11.1 in /usr/local/lib/python3.6/dist-packages (from tweepy>=3.7.0->konlpy) (2.23.0)\n",
            "Requirement already satisfied: oauthlib>=3.0.0 in /usr/local/lib/python3.6/dist-packages (from requests-oauthlib>=0.7.0->tweepy>=3.7.0->konlpy) (3.1.0)\n",
            "Requirement already satisfied: chardet<4,>=3.0.2 in /usr/local/lib/python3.6/dist-packages (from requests[socks]>=2.11.1->tweepy>=3.7.0->konlpy) (3.0.4)\n",
            "Requirement already satisfied: idna<3,>=2.5 in /usr/local/lib/python3.6/dist-packages (from requests[socks]>=2.11.1->tweepy>=3.7.0->konlpy) (2.10)\n",
            "Requirement already satisfied: urllib3!=1.25.0,!=1.25.1,<1.26,>=1.21.1 in /usr/local/lib/python3.6/dist-packages (from requests[socks]>=2.11.1->tweepy>=3.7.0->konlpy) (1.24.3)\n",
            "Requirement already satisfied: certifi>=2017.4.17 in /usr/local/lib/python3.6/dist-packages (from requests[socks]>=2.11.1->tweepy>=3.7.0->konlpy) (2020.6.20)\n",
            "Requirement already satisfied: PySocks!=1.5.7,>=1.5.6; extra == \"socks\" in /usr/local/lib/python3.6/dist-packages (from requests[socks]>=2.11.1->tweepy>=3.7.0->konlpy) (1.7.1)\n",
            "Installing collected packages: beautifulsoup4, tweepy, colorama, konlpy\n",
            "  Found existing installation: beautifulsoup4 4.6.3\n",
            "    Uninstalling beautifulsoup4-4.6.3:\n",
            "      Successfully uninstalled beautifulsoup4-4.6.3\n",
            "  Found existing installation: tweepy 3.6.0\n",
            "    Uninstalling tweepy-3.6.0:\n",
            "      Successfully uninstalled tweepy-3.6.0\n",
            "Successfully installed beautifulsoup4-4.6.0 colorama-0.4.4 konlpy-0.5.2 tweepy-3.9.0\n"
          ],
          "name": "stdout"
        }
      ]
    },
    {
      "cell_type": "code",
      "metadata": {
        "id": "v8s7pm2Ko_tt"
      },
      "source": [
        "# konlpy를 실행하기\n",
        "import konlpy"
      ],
      "execution_count": null,
      "outputs": []
    },
    {
      "cell_type": "code",
      "metadata": {
        "id": "JkwDdwbgo-Mp",
        "cellView": "both"
      },
      "source": [
        "## pandas을 실행하기, 단 실행 별명을 pd로\n",
        "import pandas as pd"
      ],
      "execution_count": null,
      "outputs": []
    },
    {
      "cell_type": "markdown",
      "metadata": {
        "id": "wycgqiQspQEL"
      },
      "source": [
        "# 데이터 불러오기"
      ]
    },
    {
      "cell_type": "code",
      "metadata": {
        "id": "EXSbylvjpUXC"
      },
      "source": [
        "# 구글 드라이브 연결을 위한 기본 세팅 \n",
        "!pip install -U -q PyDrive\n",
        " \n",
        "from pydrive.auth import GoogleAuth\n",
        "from pydrive.drive import GoogleDrive\n",
        "from google.colab import auth\n",
        "from oauth2client.client import GoogleCredentials\n",
        "\n",
        "auth.authenticate_user()\n",
        "gauth = GoogleAuth()\n",
        "gauth.credentials = GoogleCredentials.get_application_default()\n",
        "drive = GoogleDrive(gauth)"
      ],
      "execution_count": null,
      "outputs": []
    },
    {
      "cell_type": "code",
      "metadata": {
        "id": "HbrxvTb0pkKR"
      },
      "source": [
        "## 문서 ID로 실제 파일 불러오기\n",
        "# 뮬란 댓글모음\n",
        "## https://drive.google.com/file/d/1z2I5IZgkslysfZuoO0ZebdIhK4UTr3Uo/view?usp=sharing\n",
        "\n",
        "rawdata_downloaded = drive.CreateFile({'id': '1z2I5IZgkslysfZuoO0ZebdIhK4UTr3Uo'})\n",
        "rawdata_downloaded.GetContentFile('rawdata.txt')"
      ],
      "execution_count": null,
      "outputs": []
    },
    {
      "cell_type": "code",
      "metadata": {
        "id": "Pk186oQ5pwM4"
      },
      "source": [
        "# \"rawdata.txt\" 파일의 내용을 \"원본데이터\" 변수로 불러오기\n",
        "원본데이터 = pd.read_csv('rawdata.txt', sep=\"\\t\")"
      ],
      "execution_count": null,
      "outputs": []
    },
    {
      "cell_type": "code",
      "metadata": {
        "id": "HC4ZKjPapy8w",
        "outputId": "475a9dde-0fd1-4a6c-af1d-dbd59ca4b581",
        "colab": {
          "base_uri": "https://localhost:8080/",
          "height": 586
        }
      },
      "source": [
        "# \"원본데이터\" 변수 내용 확인하기\n",
        "원본데이터"
      ],
      "execution_count": null,
      "outputs": [
        {
          "output_type": "execute_result",
          "data": {
            "text/html": [
              "<div>\n",
              "<style scoped>\n",
              "    .dataframe tbody tr th:only-of-type {\n",
              "        vertical-align: middle;\n",
              "    }\n",
              "\n",
              "    .dataframe tbody tr th {\n",
              "        vertical-align: top;\n",
              "    }\n",
              "\n",
              "    .dataframe thead th {\n",
              "        text-align: right;\n",
              "    }\n",
              "</style>\n",
              "<table border=\"1\" class=\"dataframe\">\n",
              "  <thead>\n",
              "    <tr style=\"text-align: right;\">\n",
              "      <th></th>\n",
              "      <th>Unnamed: 0</th>\n",
              "      <th>nickname</th>\n",
              "      <th>text</th>\n",
              "      <th>score</th>\n",
              "      <th>like</th>\n",
              "      <th>dislike</th>\n",
              "      <th>time</th>\n",
              "      <th>watch_movie</th>\n",
              "    </tr>\n",
              "  </thead>\n",
              "  <tbody>\n",
              "    <tr>\n",
              "      <th>0</th>\n",
              "      <td>1</td>\n",
              "      <td>다람다람(kky0****)</td>\n",
              "      <td>원작을 뛰어넘는 작품은 없다지만 굳이 끼워넣은 인위적인 설정과 무미건조한 주인공의 ...</td>\n",
              "      <td>6</td>\n",
              "      <td>765</td>\n",
              "      <td>193</td>\n",
              "      <td>2020-09-17 20:14</td>\n",
              "      <td>관람객</td>\n",
              "    </tr>\n",
              "    <tr>\n",
              "      <th>1</th>\n",
              "      <td>2</td>\n",
              "      <td>Ataraxia(jisa****)</td>\n",
              "      <td>킬링타임용 영상미는 좋으나 스토리등 유치하고 별로 원작보다노잼임</td>\n",
              "      <td>4</td>\n",
              "      <td>551</td>\n",
              "      <td>81</td>\n",
              "      <td>2020-09-18 1:33</td>\n",
              "      <td>관람객</td>\n",
              "    </tr>\n",
              "    <tr>\n",
              "      <th>2</th>\n",
              "      <td>3</td>\n",
              "      <td>Vinn(kyoo****)</td>\n",
              "      <td>일단... 디지스타일의 애니메이션은 노래와 시대적 센스를 반영해서 재구성한 작품으로...</td>\n",
              "      <td>1</td>\n",
              "      <td>434</td>\n",
              "      <td>38</td>\n",
              "      <td>2020-09-19 2:31</td>\n",
              "      <td>관람객</td>\n",
              "    </tr>\n",
              "    <tr>\n",
              "      <th>3</th>\n",
              "      <td>4</td>\n",
              "      <td>ghks****</td>\n",
              "      <td>이걸 한번 볼바엔 반도를 10번 보겠습니다</td>\n",
              "      <td>1</td>\n",
              "      <td>450</td>\n",
              "      <td>57</td>\n",
              "      <td>2020-09-17 12:43</td>\n",
              "      <td>0</td>\n",
              "    </tr>\n",
              "    <tr>\n",
              "      <th>4</th>\n",
              "      <td>5</td>\n",
              "      <td>calm****</td>\n",
              "      <td>별 로 재 미 없 습 니 다 ; ; ;</td>\n",
              "      <td>6</td>\n",
              "      <td>393</td>\n",
              "      <td>62</td>\n",
              "      <td>2020-09-18 14:54</td>\n",
              "      <td>관람객</td>\n",
              "    </tr>\n",
              "    <tr>\n",
              "      <th>...</th>\n",
              "      <td>...</td>\n",
              "      <td>...</td>\n",
              "      <td>...</td>\n",
              "      <td>...</td>\n",
              "      <td>...</td>\n",
              "      <td>...</td>\n",
              "      <td>...</td>\n",
              "      <td>...</td>\n",
              "    </tr>\n",
              "    <tr>\n",
              "      <th>4515</th>\n",
              "      <td>4516</td>\n",
              "      <td>Chris(jing****)</td>\n",
              "      <td>왜 네이버 ㅅㅐㄲㅣ는 네티즌 평점 없애놨지?</td>\n",
              "      <td>1</td>\n",
              "      <td>6</td>\n",
              "      <td>124</td>\n",
              "      <td>2020-09-21 14:29</td>\n",
              "      <td>0</td>\n",
              "    </tr>\n",
              "    <tr>\n",
              "      <th>4516</th>\n",
              "      <td>4517</td>\n",
              "      <td>클로이(reqq****)</td>\n",
              "      <td>중화사상범벅, 노래빼면 평점0점</td>\n",
              "      <td>1</td>\n",
              "      <td>266</td>\n",
              "      <td>482</td>\n",
              "      <td>2020-09-17 12:29</td>\n",
              "      <td>0</td>\n",
              "    </tr>\n",
              "    <tr>\n",
              "      <th>4517</th>\n",
              "      <td>4518</td>\n",
              "      <td>토갱이(shak****)</td>\n",
              "      <td>여러분의 시간과 돈은 소중합니다차라리 이돈과 시간으로 리얼이나 염력을다시보기하세요</td>\n",
              "      <td>1</td>\n",
              "      <td>2</td>\n",
              "      <td>396</td>\n",
              "      <td>2020-09-20 1:43</td>\n",
              "      <td>0</td>\n",
              "    </tr>\n",
              "    <tr>\n",
              "      <th>4518</th>\n",
              "      <td>4519</td>\n",
              "      <td>단팥빵극호(21in****)</td>\n",
              "      <td>이게 디즈니 뮬란을 실사화한거라고? ㅋㅋ 그냥 영어쓰는 중국식 무협영화. 노력으로 ...</td>\n",
              "      <td>1</td>\n",
              "      <td>438</td>\n",
              "      <td>952</td>\n",
              "      <td>2020-09-17 10:14</td>\n",
              "      <td>0</td>\n",
              "    </tr>\n",
              "    <tr>\n",
              "      <th>4519</th>\n",
              "      <td>4520</td>\n",
              "      <td>해적왕(kjw9****)</td>\n",
              "      <td>No china 사지 않습니다 보지 않습니다</td>\n",
              "      <td>1</td>\n",
              "      <td>18</td>\n",
              "      <td>563</td>\n",
              "      <td>2020-09-17 10:05</td>\n",
              "      <td>0</td>\n",
              "    </tr>\n",
              "  </tbody>\n",
              "</table>\n",
              "<p>4520 rows × 8 columns</p>\n",
              "</div>"
            ],
            "text/plain": [
              "      Unnamed: 0            nickname  ...              time  watch_movie\n",
              "0              1      다람다람(kky0****)  ...  2020-09-17 20:14          관람객\n",
              "1              2  Ataraxia(jisa****)  ...   2020-09-18 1:33          관람객\n",
              "2              3      Vinn(kyoo****)  ...   2020-09-19 2:31          관람객\n",
              "3              4            ghks****  ...  2020-09-17 12:43            0\n",
              "4              5            calm****  ...  2020-09-18 14:54          관람객\n",
              "...          ...                 ...  ...               ...          ...\n",
              "4515        4516     Chris(jing****)  ...  2020-09-21 14:29            0\n",
              "4516        4517       클로이(reqq****)  ...  2020-09-17 12:29            0\n",
              "4517        4518       토갱이(shak****)  ...   2020-09-20 1:43            0\n",
              "4518        4519     단팥빵극호(21in****)  ...  2020-09-17 10:14            0\n",
              "4519        4520       해적왕(kjw9****)  ...  2020-09-17 10:05            0\n",
              "\n",
              "[4520 rows x 8 columns]"
            ]
          },
          "metadata": {
            "tags": []
          },
          "execution_count": 8
        }
      ]
    },
    {
      "cell_type": "markdown",
      "metadata": {
        "id": "Wce9yoP4q1Oy"
      },
      "source": [
        "# 형태소 분석"
      ]
    },
    {
      "cell_type": "code",
      "metadata": {
        "id": "zxUfvTLTrD4U"
      },
      "source": [
        "# konlpy(한국어형태소분석기) 중에서 Okt 실행하기\n",
        "from konlpy.tag import Okt\n",
        "okt = Okt()"
      ],
      "execution_count": 12,
      "outputs": []
    },
    {
      "cell_type": "code",
      "metadata": {
        "id": "2aGAOf86rFt4",
        "outputId": "600eb2cc-5146-4aa4-eb35-5f4bb754de05",
        "colab": {
          "base_uri": "https://localhost:8080/",
          "height": 468
        }
      },
      "source": [
        "# \"원본데이터\"를 대상으로 \"okt\"를 사용해서 형태소 분석하기\n",
        "저장공간  = []\n",
        "for index, row in 원본데이터.iterrows(): # 원본데이터의 컬럼(열)을 불러와서 반복할 준비!\n",
        "    대상텍스트 = row[3] # 분석에서 사용할 텍스트 정보가 있는 열을 지정해준다. 주의! python은 0부터 시작한다!\n",
        "    분류 = row[4] # 분석에서 사용할 분류 정보가 있는 열을 지정해준다. 주의! python은 0부터 시작한다!\n",
        "    형태소 = list(okt.pos(대상텍스트)) # okt의 pos 기능을 활용해서 대상 텍스트를 형태소 분리한다.\n",
        "    형태소종합 = pd.DataFrame.from_records(형태소) # 형태소에 저장된 내용을 데이터프레임 형태로 해서 형태소종합으로 저장한다.\n",
        "    형태소종합['type'] = 분류 # 형태소종합에 분류정보를 추가한다.\n",
        "    형태소종합['count'] = 1   # 형태소종합에 카운트정보를 추가한다.   \n",
        "    저장공간.append(형태소종합) # 형태소종합의 내용을 종합하여 저장한다."
      ],
      "execution_count": 13,
      "outputs": [
        {
          "output_type": "error",
          "ename": "TypeError",
          "evalue": "ignored",
          "traceback": [
            "\u001b[0;31m---------------------------------------------------------------------------\u001b[0m",
            "\u001b[0;31mTypeError\u001b[0m                                 Traceback (most recent call last)",
            "\u001b[0;32m<ipython-input-13-4e5ae1073f22>\u001b[0m in \u001b[0;36m<module>\u001b[0;34m()\u001b[0m\n\u001b[1;32m      4\u001b[0m     \u001b[0m대상텍스트\u001b[0m \u001b[0;34m=\u001b[0m \u001b[0mrow\u001b[0m\u001b[0;34m[\u001b[0m\u001b[0;36m3\u001b[0m\u001b[0;34m]\u001b[0m \u001b[0;31m# 분석에서 사용할 텍스트 정보가 있는 열을 지정해준다. 주의! python은 0부터 시작한다!\u001b[0m\u001b[0;34m\u001b[0m\u001b[0;34m\u001b[0m\u001b[0m\n\u001b[1;32m      5\u001b[0m     \u001b[0m분류\u001b[0m \u001b[0;34m=\u001b[0m \u001b[0mrow\u001b[0m\u001b[0;34m[\u001b[0m\u001b[0;36m4\u001b[0m\u001b[0;34m]\u001b[0m \u001b[0;31m# 분석에서 사용할 분류 정보가 있는 열을 지정해준다. 주의! python은 0부터 시작한다!\u001b[0m\u001b[0;34m\u001b[0m\u001b[0;34m\u001b[0m\u001b[0m\n\u001b[0;32m----> 6\u001b[0;31m     \u001b[0m형태소\u001b[0m \u001b[0;34m=\u001b[0m \u001b[0mlist\u001b[0m\u001b[0;34m(\u001b[0m\u001b[0mokt\u001b[0m\u001b[0;34m.\u001b[0m\u001b[0mpos\u001b[0m\u001b[0;34m(\u001b[0m\u001b[0m대상텍스트\u001b[0m\u001b[0;34m)\u001b[0m\u001b[0;34m)\u001b[0m \u001b[0;31m# okt의 pos 기능을 활용해서 대상 텍스트를 형태소 분리한다.\u001b[0m\u001b[0;34m\u001b[0m\u001b[0;34m\u001b[0m\u001b[0m\n\u001b[0m\u001b[1;32m      7\u001b[0m     \u001b[0m형태소종합\u001b[0m \u001b[0;34m=\u001b[0m \u001b[0mpd\u001b[0m\u001b[0;34m.\u001b[0m\u001b[0mDataFrame\u001b[0m\u001b[0;34m.\u001b[0m\u001b[0mfrom_records\u001b[0m\u001b[0;34m(\u001b[0m\u001b[0m형태소\u001b[0m\u001b[0;34m)\u001b[0m \u001b[0;31m# 형태소에 저장된 내용을 데이터프레임 형태로 해서 형태소종합으로 저장한다.\u001b[0m\u001b[0;34m\u001b[0m\u001b[0;34m\u001b[0m\u001b[0m\n\u001b[1;32m      8\u001b[0m     \u001b[0m형태소종합\u001b[0m\u001b[0;34m[\u001b[0m\u001b[0;34m'type'\u001b[0m\u001b[0;34m]\u001b[0m \u001b[0;34m=\u001b[0m \u001b[0m분류\u001b[0m \u001b[0;31m# 형태소종합에 분류정보를 추가한다.\u001b[0m\u001b[0;34m\u001b[0m\u001b[0;34m\u001b[0m\u001b[0m\n",
            "\u001b[0;32m/usr/local/lib/python3.6/dist-packages/konlpy/tag/_okt.py\u001b[0m in \u001b[0;36mpos\u001b[0;34m(self, phrase, norm, stem, join)\u001b[0m\n\u001b[1;32m     61\u001b[0m                     \u001b[0mphrase\u001b[0m\u001b[0;34m,\u001b[0m\u001b[0;34m\u001b[0m\u001b[0;34m\u001b[0m\u001b[0m\n\u001b[1;32m     62\u001b[0m                     \u001b[0mjpype\u001b[0m\u001b[0;34m.\u001b[0m\u001b[0mjava\u001b[0m\u001b[0;34m.\u001b[0m\u001b[0mlang\u001b[0m\u001b[0;34m.\u001b[0m\u001b[0mBoolean\u001b[0m\u001b[0;34m(\u001b[0m\u001b[0mnorm\u001b[0m\u001b[0;34m)\u001b[0m\u001b[0;34m,\u001b[0m\u001b[0;34m\u001b[0m\u001b[0;34m\u001b[0m\u001b[0m\n\u001b[0;32m---> 63\u001b[0;31m                     jpype.java.lang.Boolean(stem)).toArray()\n\u001b[0m\u001b[1;32m     64\u001b[0m         \u001b[0;32mif\u001b[0m \u001b[0mjoin\u001b[0m\u001b[0;34m:\u001b[0m\u001b[0;34m\u001b[0m\u001b[0;34m\u001b[0m\u001b[0m\n\u001b[1;32m     65\u001b[0m             \u001b[0;32mreturn\u001b[0m \u001b[0;34m[\u001b[0m\u001b[0mt\u001b[0m \u001b[0;32mfor\u001b[0m \u001b[0mt\u001b[0m \u001b[0;32min\u001b[0m \u001b[0mtokens\u001b[0m\u001b[0;34m]\u001b[0m\u001b[0;34m\u001b[0m\u001b[0;34m\u001b[0m\u001b[0m\n",
            "\u001b[0;31mTypeError\u001b[0m: No matching overloads found for kr.lucypark.okt.OktInterface.tokenize(int,java.lang.Boolean,java.lang.Boolean), options are:\n\tpublic java.util.List kr.lucypark.okt.OktInterface.tokenize(java.lang.String,java.lang.Boolean,java.lang.Boolean)\n\n\tat findOverload(native/common/jp_method.cpp:242)\n\tat findOverload(native/common/jp_method.cpp:245)\n\tat invoke(native/common/jp_method.cpp:253)\n\tat __call__(native/python/pyjp_method.cpp:142)\n"
          ]
        }
      ]
    },
    {
      "cell_type": "code",
      "metadata": {
        "id": "sanq9uIwrIHX",
        "outputId": "990dbe83-31fb-412d-cdcf-4a7308046d2b",
        "colab": {
          "base_uri": "https://localhost:8080/",
          "height": 186
        }
      },
      "source": [
        "# \"형태소\" 변수의 저장 내용 확인\n",
        "형태소"
      ],
      "execution_count": null,
      "outputs": [
        {
          "output_type": "error",
          "ename": "NameError",
          "evalue": "ignored",
          "traceback": [
            "\u001b[0;31m---------------------------------------------------------------------------\u001b[0m",
            "\u001b[0;31mNameError\u001b[0m                                 Traceback (most recent call last)",
            "\u001b[0;32m<ipython-input-11-c1b695bacca4>\u001b[0m in \u001b[0;36m<module>\u001b[0;34m()\u001b[0m\n\u001b[1;32m      1\u001b[0m \u001b[0;31m# \"형태소\" 변수의 저장 내용 확인\u001b[0m\u001b[0;34m\u001b[0m\u001b[0;34m\u001b[0m\u001b[0;34m\u001b[0m\u001b[0m\n\u001b[0;32m----> 2\u001b[0;31m \u001b[0m형태소\u001b[0m\u001b[0;34m\u001b[0m\u001b[0;34m\u001b[0m\u001b[0m\n\u001b[0m",
            "\u001b[0;31mNameError\u001b[0m: name '형태소' is not defined"
          ]
        }
      ]
    },
    {
      "cell_type": "code",
      "metadata": {
        "id": "aiaB3m_uvWrP",
        "outputId": "d5228d65-f2c4-4099-8553-ef06196ef1dd",
        "colab": {
          "base_uri": "https://localhost:8080/",
          "height": 418
        }
      },
      "source": [
        "# \"형태소종합\" 변수의 저장 내용 확인\n",
        "형태소종합"
      ],
      "execution_count": null,
      "outputs": [
        {
          "output_type": "execute_result",
          "data": {
            "text/html": [
              "<div>\n",
              "<style scoped>\n",
              "    .dataframe tbody tr th:only-of-type {\n",
              "        vertical-align: middle;\n",
              "    }\n",
              "\n",
              "    .dataframe tbody tr th {\n",
              "        vertical-align: top;\n",
              "    }\n",
              "\n",
              "    .dataframe thead th {\n",
              "        text-align: right;\n",
              "    }\n",
              "</style>\n",
              "<table border=\"1\" class=\"dataframe\">\n",
              "  <thead>\n",
              "    <tr style=\"text-align: right;\">\n",
              "      <th></th>\n",
              "      <th>0</th>\n",
              "      <th>1</th>\n",
              "      <th>type</th>\n",
              "      <th>count</th>\n",
              "    </tr>\n",
              "  </thead>\n",
              "  <tbody>\n",
              "    <tr>\n",
              "      <th>0</th>\n",
              "      <td>존경</td>\n",
              "      <td>Noun</td>\n",
              "      <td>문재인</td>\n",
              "      <td>1</td>\n",
              "    </tr>\n",
              "    <tr>\n",
              "      <th>1</th>\n",
              "      <td>하고</td>\n",
              "      <td>Josa</td>\n",
              "      <td>문재인</td>\n",
              "      <td>1</td>\n",
              "    </tr>\n",
              "    <tr>\n",
              "      <th>2</th>\n",
              "      <td>사랑</td>\n",
              "      <td>Noun</td>\n",
              "      <td>문재인</td>\n",
              "      <td>1</td>\n",
              "    </tr>\n",
              "    <tr>\n",
              "      <th>3</th>\n",
              "      <td>하는</td>\n",
              "      <td>Verb</td>\n",
              "      <td>문재인</td>\n",
              "      <td>1</td>\n",
              "    </tr>\n",
              "    <tr>\n",
              "      <th>4</th>\n",
              "      <td>국민</td>\n",
              "      <td>Noun</td>\n",
              "      <td>문재인</td>\n",
              "      <td>1</td>\n",
              "    </tr>\n",
              "    <tr>\n",
              "      <th>...</th>\n",
              "      <td>...</td>\n",
              "      <td>...</td>\n",
              "      <td>...</td>\n",
              "      <td>...</td>\n",
              "    </tr>\n",
              "    <tr>\n",
              "      <th>1198</th>\n",
              "      <td>일</td>\n",
              "      <td>Noun</td>\n",
              "      <td>문재인</td>\n",
              "      <td>1</td>\n",
              "    </tr>\n",
              "    <tr>\n",
              "      <th>1199</th>\n",
              "      <td>하겠습니다</td>\n",
              "      <td>Verb</td>\n",
              "      <td>문재인</td>\n",
              "      <td>1</td>\n",
              "    </tr>\n",
              "    <tr>\n",
              "      <th>1200</th>\n",
              "      <td>.</td>\n",
              "      <td>Punctuation</td>\n",
              "      <td>문재인</td>\n",
              "      <td>1</td>\n",
              "    </tr>\n",
              "    <tr>\n",
              "      <th>1201</th>\n",
              "      <td>감사합니다</td>\n",
              "      <td>Verb</td>\n",
              "      <td>문재인</td>\n",
              "      <td>1</td>\n",
              "    </tr>\n",
              "    <tr>\n",
              "      <th>1202</th>\n",
              "      <td>.</td>\n",
              "      <td>Punctuation</td>\n",
              "      <td>문재인</td>\n",
              "      <td>1</td>\n",
              "    </tr>\n",
              "  </tbody>\n",
              "</table>\n",
              "<p>1203 rows × 4 columns</p>\n",
              "</div>"
            ],
            "text/plain": [
              "          0            1 type  count\n",
              "0        존경         Noun  문재인      1\n",
              "1        하고         Josa  문재인      1\n",
              "2        사랑         Noun  문재인      1\n",
              "3        하는         Verb  문재인      1\n",
              "4        국민         Noun  문재인      1\n",
              "...     ...          ...  ...    ...\n",
              "1198      일         Noun  문재인      1\n",
              "1199  하겠습니다         Verb  문재인      1\n",
              "1200      .  Punctuation  문재인      1\n",
              "1201  감사합니다         Verb  문재인      1\n",
              "1202      .  Punctuation  문재인      1\n",
              "\n",
              "[1203 rows x 4 columns]"
            ]
          },
          "metadata": {
            "tags": []
          },
          "execution_count": 14
        }
      ]
    },
    {
      "cell_type": "code",
      "metadata": {
        "id": "EZlYwsd_rZCX",
        "outputId": "9471d38c-ed62-44d5-8811-c056100d7a0f",
        "colab": {
          "base_uri": "https://localhost:8080/",
          "height": 980
        }
      },
      "source": [
        "# \"저장공간\" 변수의 저장 내용 확인\n",
        "저장공간"
      ],
      "execution_count": null,
      "outputs": [
        {
          "output_type": "execute_result",
          "data": {
            "text/plain": [
              "[          0            1 type  count\n",
              " 0        존경         Noun  노무현      1\n",
              " 1        하는         Verb  노무현      1\n",
              " 2        국민         Noun  노무현      1\n",
              " 3       여러분         Noun  노무현      1\n",
              " 4         .  Punctuation  노무현      1\n",
              " ...     ...          ...  ...    ...\n",
              " 2223     맹세         Noun  노무현      1\n",
              " 2224    합니다         Verb  노무현      1\n",
              " 2225      .  Punctuation  노무현      1\n",
              " 2226  감사합니다         Verb  노무현      1\n",
              " 2227      .  Punctuation  노무현      1\n",
              " \n",
              " [2228 rows x 4 columns],           0            1 type  count\n",
              " 0        존경         Noun  이명박      1\n",
              " 1        하는         Verb  이명박      1\n",
              " 2        국민         Noun  이명박      1\n",
              " 3       여러분         Noun  이명박      1\n",
              " 4         !  Punctuation  이명박      1\n",
              " ...     ...          ...  ...    ...\n",
              " 3586      것         Noun  이명박      1\n",
              " 3587    입니다    Adjective  이명박      1\n",
              " 3588      .  Punctuation  이명박      1\n",
              " 3589  감사합니다         Verb  이명박      1\n",
              " 3590      .  Punctuation  이명박      1\n",
              " \n",
              " [3591 rows x 4 columns],           0            1 type  count\n",
              " 0        희망         Noun  박근혜      1\n",
              " 1         의         Josa  박근혜      1\n",
              " 2         새         Noun  박근혜      1\n",
              " 3        시대         Noun  박근혜      1\n",
              " 4         를         Josa  박근혜      1\n",
              " ...     ...          ...  ...    ...\n",
              " 2237    만들어         Verb  박근혜      1\n",
              " 2238    갑시다         Verb  박근혜      1\n",
              " 2239      .  Punctuation  박근혜      1\n",
              " 2240  감사합니다         Verb  박근혜      1\n",
              " 2241      .  Punctuation  박근혜      1\n",
              " \n",
              " [2242 rows x 4 columns],           0            1 type  count\n",
              " 0        존경         Noun  문재인      1\n",
              " 1        하고         Josa  문재인      1\n",
              " 2        사랑         Noun  문재인      1\n",
              " 3        하는         Verb  문재인      1\n",
              " 4        국민         Noun  문재인      1\n",
              " ...     ...          ...  ...    ...\n",
              " 1198      일         Noun  문재인      1\n",
              " 1199  하겠습니다         Verb  문재인      1\n",
              " 1200      .  Punctuation  문재인      1\n",
              " 1201  감사합니다         Verb  문재인      1\n",
              " 1202      .  Punctuation  문재인      1\n",
              " \n",
              " [1203 rows x 4 columns]]"
            ]
          },
          "metadata": {
            "tags": []
          },
          "execution_count": 15
        }
      ]
    },
    {
      "cell_type": "code",
      "metadata": {
        "id": "jPg2tnvYrdYm"
      },
      "source": [
        "# \"저장공간\" 변수의 내용을 데이터프레임 형식으로 변환해서 \"분석통합\" 변수에 저장한다.\n",
        "분석통합 = pd.concat(저장공간)"
      ],
      "execution_count": null,
      "outputs": []
    },
    {
      "cell_type": "code",
      "metadata": {
        "id": "aW9KPz-GrfGO",
        "outputId": "662dbc47-4d33-4724-bec0-aba5761e9b9d",
        "colab": {
          "base_uri": "https://localhost:8080/",
          "height": 418
        }
      },
      "source": [
        "# \"분석통합\" 변수의 저장 내용 확인\n",
        "분석통합"
      ],
      "execution_count": null,
      "outputs": [
        {
          "output_type": "execute_result",
          "data": {
            "text/html": [
              "<div>\n",
              "<style scoped>\n",
              "    .dataframe tbody tr th:only-of-type {\n",
              "        vertical-align: middle;\n",
              "    }\n",
              "\n",
              "    .dataframe tbody tr th {\n",
              "        vertical-align: top;\n",
              "    }\n",
              "\n",
              "    .dataframe thead th {\n",
              "        text-align: right;\n",
              "    }\n",
              "</style>\n",
              "<table border=\"1\" class=\"dataframe\">\n",
              "  <thead>\n",
              "    <tr style=\"text-align: right;\">\n",
              "      <th></th>\n",
              "      <th>0</th>\n",
              "      <th>1</th>\n",
              "      <th>type</th>\n",
              "      <th>count</th>\n",
              "    </tr>\n",
              "  </thead>\n",
              "  <tbody>\n",
              "    <tr>\n",
              "      <th>0</th>\n",
              "      <td>존경</td>\n",
              "      <td>Noun</td>\n",
              "      <td>노무현</td>\n",
              "      <td>1</td>\n",
              "    </tr>\n",
              "    <tr>\n",
              "      <th>1</th>\n",
              "      <td>하는</td>\n",
              "      <td>Verb</td>\n",
              "      <td>노무현</td>\n",
              "      <td>1</td>\n",
              "    </tr>\n",
              "    <tr>\n",
              "      <th>2</th>\n",
              "      <td>국민</td>\n",
              "      <td>Noun</td>\n",
              "      <td>노무현</td>\n",
              "      <td>1</td>\n",
              "    </tr>\n",
              "    <tr>\n",
              "      <th>3</th>\n",
              "      <td>여러분</td>\n",
              "      <td>Noun</td>\n",
              "      <td>노무현</td>\n",
              "      <td>1</td>\n",
              "    </tr>\n",
              "    <tr>\n",
              "      <th>4</th>\n",
              "      <td>.</td>\n",
              "      <td>Punctuation</td>\n",
              "      <td>노무현</td>\n",
              "      <td>1</td>\n",
              "    </tr>\n",
              "    <tr>\n",
              "      <th>...</th>\n",
              "      <td>...</td>\n",
              "      <td>...</td>\n",
              "      <td>...</td>\n",
              "      <td>...</td>\n",
              "    </tr>\n",
              "    <tr>\n",
              "      <th>1198</th>\n",
              "      <td>일</td>\n",
              "      <td>Noun</td>\n",
              "      <td>문재인</td>\n",
              "      <td>1</td>\n",
              "    </tr>\n",
              "    <tr>\n",
              "      <th>1199</th>\n",
              "      <td>하겠습니다</td>\n",
              "      <td>Verb</td>\n",
              "      <td>문재인</td>\n",
              "      <td>1</td>\n",
              "    </tr>\n",
              "    <tr>\n",
              "      <th>1200</th>\n",
              "      <td>.</td>\n",
              "      <td>Punctuation</td>\n",
              "      <td>문재인</td>\n",
              "      <td>1</td>\n",
              "    </tr>\n",
              "    <tr>\n",
              "      <th>1201</th>\n",
              "      <td>감사합니다</td>\n",
              "      <td>Verb</td>\n",
              "      <td>문재인</td>\n",
              "      <td>1</td>\n",
              "    </tr>\n",
              "    <tr>\n",
              "      <th>1202</th>\n",
              "      <td>.</td>\n",
              "      <td>Punctuation</td>\n",
              "      <td>문재인</td>\n",
              "      <td>1</td>\n",
              "    </tr>\n",
              "  </tbody>\n",
              "</table>\n",
              "<p>9264 rows × 4 columns</p>\n",
              "</div>"
            ],
            "text/plain": [
              "          0            1 type  count\n",
              "0        존경         Noun  노무현      1\n",
              "1        하는         Verb  노무현      1\n",
              "2        국민         Noun  노무현      1\n",
              "3       여러분         Noun  노무현      1\n",
              "4         .  Punctuation  노무현      1\n",
              "...     ...          ...  ...    ...\n",
              "1198      일         Noun  문재인      1\n",
              "1199  하겠습니다         Verb  문재인      1\n",
              "1200      .  Punctuation  문재인      1\n",
              "1201  감사합니다         Verb  문재인      1\n",
              "1202      .  Punctuation  문재인      1\n",
              "\n",
              "[9264 rows x 4 columns]"
            ]
          },
          "metadata": {
            "tags": []
          },
          "execution_count": 17
        }
      ]
    },
    {
      "cell_type": "code",
      "metadata": {
        "id": "mYBnRLrOremd"
      },
      "source": [
        "# \"분석통합\" 변수의 컬럼(열) 이름 변경\n",
        "분석통합.columns = [\"형태소\", \"품사\", \"분류\", \"카운트\"]"
      ],
      "execution_count": null,
      "outputs": []
    },
    {
      "cell_type": "code",
      "metadata": {
        "id": "KIEaYMwSriNW",
        "outputId": "96959abc-87dd-4e39-9147-997d0eaef7be",
        "colab": {
          "base_uri": "https://localhost:8080/",
          "height": 418
        }
      },
      "source": [
        "# \"분석통합\" 변수의 저장 내용 확인\n",
        "분석통합"
      ],
      "execution_count": null,
      "outputs": [
        {
          "output_type": "execute_result",
          "data": {
            "text/html": [
              "<div>\n",
              "<style scoped>\n",
              "    .dataframe tbody tr th:only-of-type {\n",
              "        vertical-align: middle;\n",
              "    }\n",
              "\n",
              "    .dataframe tbody tr th {\n",
              "        vertical-align: top;\n",
              "    }\n",
              "\n",
              "    .dataframe thead th {\n",
              "        text-align: right;\n",
              "    }\n",
              "</style>\n",
              "<table border=\"1\" class=\"dataframe\">\n",
              "  <thead>\n",
              "    <tr style=\"text-align: right;\">\n",
              "      <th></th>\n",
              "      <th>형태소</th>\n",
              "      <th>품사</th>\n",
              "      <th>분류</th>\n",
              "      <th>카운트</th>\n",
              "    </tr>\n",
              "  </thead>\n",
              "  <tbody>\n",
              "    <tr>\n",
              "      <th>0</th>\n",
              "      <td>존경</td>\n",
              "      <td>Noun</td>\n",
              "      <td>노무현</td>\n",
              "      <td>1</td>\n",
              "    </tr>\n",
              "    <tr>\n",
              "      <th>1</th>\n",
              "      <td>하는</td>\n",
              "      <td>Verb</td>\n",
              "      <td>노무현</td>\n",
              "      <td>1</td>\n",
              "    </tr>\n",
              "    <tr>\n",
              "      <th>2</th>\n",
              "      <td>국민</td>\n",
              "      <td>Noun</td>\n",
              "      <td>노무현</td>\n",
              "      <td>1</td>\n",
              "    </tr>\n",
              "    <tr>\n",
              "      <th>3</th>\n",
              "      <td>여러분</td>\n",
              "      <td>Noun</td>\n",
              "      <td>노무현</td>\n",
              "      <td>1</td>\n",
              "    </tr>\n",
              "    <tr>\n",
              "      <th>4</th>\n",
              "      <td>.</td>\n",
              "      <td>Punctuation</td>\n",
              "      <td>노무현</td>\n",
              "      <td>1</td>\n",
              "    </tr>\n",
              "    <tr>\n",
              "      <th>...</th>\n",
              "      <td>...</td>\n",
              "      <td>...</td>\n",
              "      <td>...</td>\n",
              "      <td>...</td>\n",
              "    </tr>\n",
              "    <tr>\n",
              "      <th>1198</th>\n",
              "      <td>일</td>\n",
              "      <td>Noun</td>\n",
              "      <td>문재인</td>\n",
              "      <td>1</td>\n",
              "    </tr>\n",
              "    <tr>\n",
              "      <th>1199</th>\n",
              "      <td>하겠습니다</td>\n",
              "      <td>Verb</td>\n",
              "      <td>문재인</td>\n",
              "      <td>1</td>\n",
              "    </tr>\n",
              "    <tr>\n",
              "      <th>1200</th>\n",
              "      <td>.</td>\n",
              "      <td>Punctuation</td>\n",
              "      <td>문재인</td>\n",
              "      <td>1</td>\n",
              "    </tr>\n",
              "    <tr>\n",
              "      <th>1201</th>\n",
              "      <td>감사합니다</td>\n",
              "      <td>Verb</td>\n",
              "      <td>문재인</td>\n",
              "      <td>1</td>\n",
              "    </tr>\n",
              "    <tr>\n",
              "      <th>1202</th>\n",
              "      <td>.</td>\n",
              "      <td>Punctuation</td>\n",
              "      <td>문재인</td>\n",
              "      <td>1</td>\n",
              "    </tr>\n",
              "  </tbody>\n",
              "</table>\n",
              "<p>9264 rows × 4 columns</p>\n",
              "</div>"
            ],
            "text/plain": [
              "        형태소           품사   분류  카운트\n",
              "0        존경         Noun  노무현    1\n",
              "1        하는         Verb  노무현    1\n",
              "2        국민         Noun  노무현    1\n",
              "3       여러분         Noun  노무현    1\n",
              "4         .  Punctuation  노무현    1\n",
              "...     ...          ...  ...  ...\n",
              "1198      일         Noun  문재인    1\n",
              "1199  하겠습니다         Verb  문재인    1\n",
              "1200      .  Punctuation  문재인    1\n",
              "1201  감사합니다         Verb  문재인    1\n",
              "1202      .  Punctuation  문재인    1\n",
              "\n",
              "[9264 rows x 4 columns]"
            ]
          },
          "metadata": {
            "tags": []
          },
          "execution_count": 23
        }
      ]
    },
    {
      "cell_type": "code",
      "metadata": {
        "id": "jQqgpDTBrjCd"
      },
      "source": [
        "# \"분석통합\" 변수의 내용을 형태소, 품사, 분류가 같은 것을 합치고, 카운트의 총합을 구해서 \"그룹통합\" 변수에 저장한다.\n",
        "그룹통합 = 분석통합.groupby(['형태소', '품사', \"분류\"])['카운트'].sum()"
      ],
      "execution_count": null,
      "outputs": []
    },
    {
      "cell_type": "code",
      "metadata": {
        "id": "kbEoacSbrnC1",
        "outputId": "9d3691b2-a304-4d78-bdde-881a0348ba11",
        "colab": {
          "base_uri": "https://localhost:8080/",
          "height": 253
        }
      },
      "source": [
        "# \"그룹통합\" 변수의 저장 내용 확인\n",
        "그룹통합"
      ],
      "execution_count": null,
      "outputs": [
        {
          "output_type": "execute_result",
          "data": {
            "text/plain": [
              "형태소     품사           분류 \n",
              "!       Punctuation  박근혜     9\n",
              "                     이명박     9\n",
              "'       Punctuation  노무현    10\n",
              "(       Punctuation  이명박     4\n",
              ")       Punctuation  이명박     4\n",
              "                            ..\n",
              "힘       Noun         이명박     5\n",
              "힘들었던    Adjective    문재인     1\n",
              "힘쓰겠습니다  Verb         이명박     2\n",
              "힘쓸      Verb         이명박     1\n",
              "힘차게     Adjective    이명박     1\n",
              "Name: 카운트, Length: 3285, dtype: int64"
            ]
          },
          "metadata": {
            "tags": []
          },
          "execution_count": 25
        }
      ]
    },
    {
      "cell_type": "code",
      "metadata": {
        "id": "lrMR5a-rroxU"
      },
      "source": [
        "# \"그룹통합\" 변수의 내용을 데이터프레임 형식으로 변환해서 \"그룹통합\" 변수에 저장한다.\n",
        "그룹통합 = pd.DataFrame(그룹통합)"
      ],
      "execution_count": null,
      "outputs": []
    },
    {
      "cell_type": "code",
      "metadata": {
        "id": "sSjWDwgjsDCk",
        "outputId": "ebf3e8f2-eb36-4a1b-de1c-33ffb96dc64c",
        "colab": {
          "base_uri": "https://localhost:8080/",
          "height": 448
        }
      },
      "source": [
        "# \"그룹통합\" 변수의 저장 내용 확인\n",
        "그룹통합"
      ],
      "execution_count": null,
      "outputs": [
        {
          "output_type": "execute_result",
          "data": {
            "text/html": [
              "<div>\n",
              "<style scoped>\n",
              "    .dataframe tbody tr th:only-of-type {\n",
              "        vertical-align: middle;\n",
              "    }\n",
              "\n",
              "    .dataframe tbody tr th {\n",
              "        vertical-align: top;\n",
              "    }\n",
              "\n",
              "    .dataframe thead th {\n",
              "        text-align: right;\n",
              "    }\n",
              "</style>\n",
              "<table border=\"1\" class=\"dataframe\">\n",
              "  <thead>\n",
              "    <tr style=\"text-align: right;\">\n",
              "      <th></th>\n",
              "      <th></th>\n",
              "      <th></th>\n",
              "      <th>카운트</th>\n",
              "    </tr>\n",
              "    <tr>\n",
              "      <th>형태소</th>\n",
              "      <th>품사</th>\n",
              "      <th>분류</th>\n",
              "      <th></th>\n",
              "    </tr>\n",
              "  </thead>\n",
              "  <tbody>\n",
              "    <tr>\n",
              "      <th rowspan=\"2\" valign=\"top\">!</th>\n",
              "      <th rowspan=\"2\" valign=\"top\">Punctuation</th>\n",
              "      <th>박근혜</th>\n",
              "      <td>9</td>\n",
              "    </tr>\n",
              "    <tr>\n",
              "      <th>이명박</th>\n",
              "      <td>9</td>\n",
              "    </tr>\n",
              "    <tr>\n",
              "      <th>'</th>\n",
              "      <th>Punctuation</th>\n",
              "      <th>노무현</th>\n",
              "      <td>10</td>\n",
              "    </tr>\n",
              "    <tr>\n",
              "      <th>(</th>\n",
              "      <th>Punctuation</th>\n",
              "      <th>이명박</th>\n",
              "      <td>4</td>\n",
              "    </tr>\n",
              "    <tr>\n",
              "      <th>)</th>\n",
              "      <th>Punctuation</th>\n",
              "      <th>이명박</th>\n",
              "      <td>4</td>\n",
              "    </tr>\n",
              "    <tr>\n",
              "      <th>...</th>\n",
              "      <th>...</th>\n",
              "      <th>...</th>\n",
              "      <td>...</td>\n",
              "    </tr>\n",
              "    <tr>\n",
              "      <th>힘</th>\n",
              "      <th>Noun</th>\n",
              "      <th>이명박</th>\n",
              "      <td>5</td>\n",
              "    </tr>\n",
              "    <tr>\n",
              "      <th>힘들었던</th>\n",
              "      <th>Adjective</th>\n",
              "      <th>문재인</th>\n",
              "      <td>1</td>\n",
              "    </tr>\n",
              "    <tr>\n",
              "      <th>힘쓰겠습니다</th>\n",
              "      <th>Verb</th>\n",
              "      <th>이명박</th>\n",
              "      <td>2</td>\n",
              "    </tr>\n",
              "    <tr>\n",
              "      <th>힘쓸</th>\n",
              "      <th>Verb</th>\n",
              "      <th>이명박</th>\n",
              "      <td>1</td>\n",
              "    </tr>\n",
              "    <tr>\n",
              "      <th>힘차게</th>\n",
              "      <th>Adjective</th>\n",
              "      <th>이명박</th>\n",
              "      <td>1</td>\n",
              "    </tr>\n",
              "  </tbody>\n",
              "</table>\n",
              "<p>3285 rows × 1 columns</p>\n",
              "</div>"
            ],
            "text/plain": [
              "                        카운트\n",
              "형태소    품사          분류      \n",
              "!      Punctuation 박근혜    9\n",
              "                   이명박    9\n",
              "'      Punctuation 노무현   10\n",
              "(      Punctuation 이명박    4\n",
              ")      Punctuation 이명박    4\n",
              "...                     ...\n",
              "힘      Noun        이명박    5\n",
              "힘들었던   Adjective   문재인    1\n",
              "힘쓰겠습니다 Verb        이명박    2\n",
              "힘쓸     Verb        이명박    1\n",
              "힘차게    Adjective   이명박    1\n",
              "\n",
              "[3285 rows x 1 columns]"
            ]
          },
          "metadata": {
            "tags": []
          },
          "execution_count": 27
        }
      ]
    },
    {
      "cell_type": "code",
      "metadata": {
        "id": "F10LD-NtsjfX"
      },
      "source": [
        "# \"그룹통합\" 변수의 내용을 \"형태소분석결과.csv\" 파일로 저장한다.\n",
        "# header는 컬럼(열) 정보의 포함 여부이다.\n",
        "# encoding은 문자코드를 선택하는 것이다. python에서는 기본적으로 utf-8(유니코드)를 사용한다.\n",
        "\n",
        "그룹통합.to_csv('형태소분석결과.csv', header='true', encoding='utf-8')"
      ],
      "execution_count": null,
      "outputs": []
    }
  ]
}